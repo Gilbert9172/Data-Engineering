{
 "cells": [
  {
   "cell_type": "code",
   "execution_count": 1,
   "id": "6bac8723",
   "metadata": {},
   "outputs": [],
   "source": [
    "name = [\"name\",\"gilbert\",\"spomgebob\",\"patrick\"]"
   ]
  },
  {
   "cell_type": "code",
   "execution_count": 2,
   "id": "95bf1fea",
   "metadata": {},
   "outputs": [
    {
     "name": "stdout",
     "output_type": "stream",
     "text": [
      "0 name\n",
      "1 gilbert\n",
      "2 spomgebob\n",
      "3 patrick\n"
     ]
    }
   ],
   "source": [
    "for i, row in enumerate(name):\n",
    "    print(i,row)"
   ]
  },
  {
   "cell_type": "code",
   "execution_count": 7,
   "id": "6868a92e",
   "metadata": {},
   "outputs": [
    {
     "name": "stdout",
     "output_type": "stream",
     "text": [
      "['g', 's', 'p']\n"
     ]
    }
   ],
   "source": [
    "gil = []\n",
    "for i, row in enumerate(name):\n",
    "    if i == 0:\n",
    "        continue\n",
    "    gil.append(row[0])\n",
    "\n",
    "print(gil)    "
   ]
  },
  {
   "cell_type": "code",
   "execution_count": 1,
   "id": "a9abef0c",
   "metadata": {},
   "outputs": [
    {
     "name": "stdout",
     "output_type": "stream",
     "text": [
      "Requirement already satisfied: pandas in c:\\users\\82104\\anaconda3\\envs\\jupy\\lib\\site-packages (1.3.0)\n",
      "Requirement already satisfied: numpy>=1.17.3 in c:\\users\\82104\\anaconda3\\envs\\jupy\\lib\\site-packages (from pandas) (1.21.0)\n",
      "Requirement already satisfied: python-dateutil>=2.7.3 in c:\\users\\82104\\anaconda3\\envs\\jupy\\lib\\site-packages (from pandas) (2.8.2)\n",
      "Requirement already satisfied: pytz>=2017.3 in c:\\users\\82104\\anaconda3\\envs\\jupy\\lib\\site-packages (from pandas) (2021.1)\n",
      "Requirement already satisfied: six>=1.5 in c:\\users\\82104\\anaconda3\\envs\\jupy\\lib\\site-packages (from python-dateutil>=2.7.3->pandas) (1.16.0)\n",
      "Note: you may need to restart the kernel to use updated packages.\n"
     ]
    }
   ],
   "source": [
    "pip install pandas"
   ]
  },
  {
   "cell_type": "code",
   "execution_count": 2,
   "id": "33ddca3f",
   "metadata": {},
   "outputs": [],
   "source": [
    "import pandas as pd"
   ]
  },
  {
   "cell_type": "code",
   "execution_count": 3,
   "id": "f9485363",
   "metadata": {},
   "outputs": [
    {
     "data": {
      "text/html": [
       "<div>\n",
       "<style scoped>\n",
       "    .dataframe tbody tr th:only-of-type {\n",
       "        vertical-align: middle;\n",
       "    }\n",
       "\n",
       "    .dataframe tbody tr th {\n",
       "        vertical-align: top;\n",
       "    }\n",
       "\n",
       "    .dataframe thead th {\n",
       "        text-align: right;\n",
       "    }\n",
       "</style>\n",
       "<table border=\"1\" class=\"dataframe\">\n",
       "  <thead>\n",
       "    <tr style=\"text-align: right;\">\n",
       "      <th></th>\n",
       "      <th>username</th>\n",
       "    </tr>\n",
       "  </thead>\n",
       "  <tbody>\n",
       "    <tr>\n",
       "      <th>0</th>\n",
       "      <td>spongebob</td>\n",
       "    </tr>\n",
       "    <tr>\n",
       "      <th>1</th>\n",
       "      <td>patrick</td>\n",
       "    </tr>\n",
       "    <tr>\n",
       "      <th>2</th>\n",
       "      <td>squidward</td>\n",
       "    </tr>\n",
       "  </tbody>\n",
       "</table>\n",
       "</div>"
      ],
      "text/plain": [
       "    username\n",
       "0  spongebob\n",
       "1    patrick\n",
       "2  squidward"
      ]
     },
     "execution_count": 3,
     "metadata": {},
     "output_type": "execute_result"
    }
   ],
   "source": [
    "path = \"C:/Users/82104/Desktop/N332/ds-sa-simple-flask/simple_flask_app/users.csv\"\n",
    "df = pd.read_csv(path)\n",
    "df"
   ]
  },
  {
   "cell_type": "code",
   "execution_count": 4,
   "id": "0f32a733",
   "metadata": {},
   "outputs": [],
   "source": [
    "import csv"
   ]
  },
  {
   "cell_type": "code",
   "execution_count": 14,
   "id": "beacec3a",
   "metadata": {},
   "outputs": [],
   "source": [
    "with open(f'{path}', newline='') as csvfile:\n",
    "    spamreader = csv.reader(csvfile)\n",
    "    gil = []\n",
    "    for idx, row, in enumerate(spamreader):\n",
    "        if idx == 0:\n",
    "            continue\n",
    "        gil.append(row[0]) "
   ]
  },
  {
   "cell_type": "code",
   "execution_count": 15,
   "id": "e39118b9",
   "metadata": {},
   "outputs": [
    {
     "data": {
      "text/plain": [
       "['spongebob', 'patrick', 'squidward']"
      ]
     },
     "execution_count": 15,
     "metadata": {},
     "output_type": "execute_result"
    }
   ],
   "source": [
    "gil"
   ]
  },
  {
   "cell_type": "code",
   "execution_count": 7,
   "id": "2f51376b",
   "metadata": {},
   "outputs": [
    {
     "name": "stdout",
     "output_type": "stream",
     "text": [
      "[['username'], ['spongebob'], ['patrick'], ['squidward']]\n"
     ]
    }
   ],
   "source": [
    "a =[]\n",
    "with open(f'{path}', newline='') as csvfile:\n",
    "    spamreader = csv.reader(csvfile)\n",
    "    for i in spamreader:\n",
    "        a.append(i)\n",
    "        \n",
    "print(a)        "
   ]
  },
  {
   "cell_type": "code",
   "execution_count": 23,
   "id": "82b7c237",
   "metadata": {},
   "outputs": [
    {
     "data": {
      "text/plain": [
       "['username']"
      ]
     },
     "execution_count": 23,
     "metadata": {},
     "output_type": "execute_result"
    }
   ],
   "source": [
    "a[0]"
   ]
  },
  {
   "cell_type": "code",
   "execution_count": 33,
   "id": "34e0a09d",
   "metadata": {},
   "outputs": [
    {
     "name": "stdout",
     "output_type": "stream",
     "text": [
      "username\n",
      "spongebob\n",
      "patrick\n",
      "squidward\n"
     ]
    }
   ],
   "source": [
    "with open(f'{path}', newline='') as csvfile:\n",
    "    spamreader = csv.reader(csvfile)\n",
    "    gil = []\n",
    "    for idx, row, in enumerate(spamreader):\n",
    "        print(row[0]) "
   ]
  },
  {
   "cell_type": "code",
   "execution_count": 30,
   "id": "c22370a4",
   "metadata": {},
   "outputs": [
    {
     "name": "stdout",
     "output_type": "stream",
     "text": [
      "['username']\n",
      "['spongebob']\n",
      "['patrick']\n",
      "['squidward']\n"
     ]
    }
   ],
   "source": [
    "with open(f'{path}', newline='') as csvfile:\n",
    "    spamreader = csv.reader(csvfile)\n",
    "    gil = []\n",
    "    for idx, row, in enumerate(spamreader):\n",
    "        print(row) "
   ]
  },
  {
   "cell_type": "code",
   "execution_count": 34,
   "id": "1daf80eb",
   "metadata": {},
   "outputs": [
    {
     "name": "stdout",
     "output_type": "stream",
     "text": [
      "0 ['username']\n",
      "1 ['spongebob']\n",
      "2 ['patrick']\n",
      "3 ['squidward']\n"
     ]
    }
   ],
   "source": [
    "with open(f'{path}', newline='') as csvfile:\n",
    "    spamreader = csv.reader(csvfile)\n",
    "    gil = []\n",
    "    for idx, row, in enumerate(spamreader):\n",
    "        print(idx, row) "
   ]
  },
  {
   "cell_type": "markdown",
   "id": "efa6746c",
   "metadata": {},
   "source": [
    "# 과제"
   ]
  },
  {
   "cell_type": "code",
   "execution_count": 60,
   "id": "fdae94f6",
   "metadata": {},
   "outputs": [],
   "source": [
    "import json\n",
    "\n",
    "with open(f'{path}', newline='') as csvfile:\n",
    "    spamreader = csv.reader(csvfile)\n",
    "    gil = []\n",
    "    for idx, row, in enumerate(spamreader):\n",
    "        if idx == 0:\n",
    "            continue\n",
    "        gil.append(row[0])     \n",
    "    \n",
    "# gil = {\"users\" : gil}\n",
    "# JSON_GIL = json.dumps(gil)\n",
    "# print(JSON_GIL)\n"
   ]
  },
  {
   "cell_type": "code",
   "execution_count": 62,
   "id": "2e3678dc",
   "metadata": {},
   "outputs": [
    {
     "data": {
      "text/plain": [
       "'spongebob'"
      ]
     },
     "execution_count": 62,
     "metadata": {},
     "output_type": "execute_result"
    }
   ],
   "source": [
    "gil[0]"
   ]
  },
  {
   "cell_type": "code",
   "execution_count": 58,
   "id": "946562c8",
   "metadata": {},
   "outputs": [
    {
     "data": {
      "text/plain": [
       "'patrick'"
      ]
     },
     "execution_count": 58,
     "metadata": {},
     "output_type": "execute_result"
    }
   ],
   "source": [
    "gil['users'][1]"
   ]
  },
  {
   "cell_type": "code",
   "execution_count": null,
   "id": "bbe5d692",
   "metadata": {},
   "outputs": [],
   "source": [
    "for i in gil:\n",
    "    if i == 'spongebob'"
   ]
  },
  {
   "cell_type": "code",
   "execution_count": 18,
   "id": "7a9bb5be",
   "metadata": {},
   "outputs": [
    {
     "name": "stdout",
     "output_type": "stream",
     "text": [
      "spongebob\n",
      "patrick\n",
      "squidward\n"
     ]
    }
   ],
   "source": [
    "with open(f'{path}', newline='') as csvfile:\n",
    "    spamreader = csv.reader(csvfile)\n",
    "    gil = []\n",
    "    for idx, row, in enumerate(spamreader):\n",
    "        \n",
    "        if idx == 0:\n",
    "            continue\n",
    "        gil.append(row[0])\n",
    "\n",
    "print(gil[int(0)])\n",
    "print(gil[int(1)])\n",
    "print(gil[int(2)])"
   ]
  },
  {
   "cell_type": "code",
   "execution_count": 69,
   "id": "40416b38",
   "metadata": {},
   "outputs": [
    {
     "name": "stdout",
     "output_type": "stream",
     "text": [
      "1 ['spongebob']\n",
      "2 ['patrick']\n",
      "3 ['squidward']\n"
     ]
    }
   ],
   "source": [
    "with open(f'{path}', newline='') as csvfile:\n",
    "    spamreader = csv.reader(csvfile)\n",
    "    gil = []\n",
    "    for idx, row, in enumerate(spamreader):\n",
    "        if idx == 0:\n",
    "            continue\n",
    "        print(idx, row)"
   ]
  },
  {
   "cell_type": "code",
   "execution_count": 17,
   "id": "44d05043",
   "metadata": {},
   "outputs": [
    {
     "name": "stdout",
     "output_type": "stream",
     "text": [
      "C:\\Users\\82104\\aiboot\\Section3\\gilbert/user.csv\n"
     ]
    }
   ],
   "source": [
    "import os\n",
    "print(os.path.join(os.getcwd(),'gilbert/user.csv'))"
   ]
  },
  {
   "cell_type": "code",
   "execution_count": null,
   "id": "ac0925d1",
   "metadata": {},
   "outputs": [],
   "source": []
  }
 ],
 "metadata": {
  "kernelspec": {
   "display_name": "Python 3",
   "language": "python",
   "name": "python3"
  },
  "language_info": {
   "codemirror_mode": {
    "name": "ipython",
    "version": 3
   },
   "file_extension": ".py",
   "mimetype": "text/x-python",
   "name": "python",
   "nbconvert_exporter": "python",
   "pygments_lexer": "ipython3",
   "version": "3.9.5"
  }
 },
 "nbformat": 4,
 "nbformat_minor": 5
}
