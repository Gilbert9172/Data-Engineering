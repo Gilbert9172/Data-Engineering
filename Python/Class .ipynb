{
 "cells": [
  {
   "cell_type": "markdown",
   "id": "98babd31",
   "metadata": {},
   "source": [
    "# Class\n",
    "\n",
    "1. 생성자 함수 '__init__ ': Class를 선언하는 순간 실행되는 함수  \n",
    "\n",
    "\n",
    "2. class가 나중에 어떻게 쓰일지를 생각하면서 만드는 것이 중요\n",
    "\n",
    "\n",
    "3. class 안에 있는 함수를 method라고 부른다.\n",
    "\n",
    "\n",
    "4. 생성자 합수 앞 뒤로 있는 \"_ _\" 이것을  \n",
    "'double underscore' 혹은 'dunderscore' 라고도 부릅니다. \n",
    "\n",
    "    - 변수나 함수에 특별한 의미를 부여할 때 사용합니다.\n",
    "    - magic_method\n",
    "    \n",
    "    \n",
    "5. magic_method\n",
    "\n",
    "    - 파이썬이 내부적으로 사용한 것들이 Magic method"
   ]
  },
  {
   "cell_type": "markdown",
   "id": "7a5df2ac",
   "metadata": {},
   "source": [
    "### 1. Class 선언"
   ]
  },
  {
   "cell_type": "code",
   "execution_count": 1,
   "id": "5064c37c",
   "metadata": {},
   "outputs": [],
   "source": [
    "class JSS:\n",
    "    def __init__(self):\n",
    "        print(\"JSS 클래스 선언\")\n",
    "    def show(self):\n",
    "        print(\"show실행\")"
   ]
  },
  {
   "cell_type": "code",
   "execution_count": 2,
   "id": "1d1a5379",
   "metadata": {},
   "outputs": [
    {
     "name": "stdout",
     "output_type": "stream",
     "text": [
      "JSS 클래스 선언\n"
     ]
    }
   ],
   "source": [
    "a = JSS()"
   ]
  },
  {
   "cell_type": "markdown",
   "id": "fb11b5fb",
   "metadata": {},
   "source": [
    "### 2. class는 instance속성에 접근할 수 없다."
   ]
  },
  {
   "cell_type": "code",
   "execution_count": 34,
   "id": "8d07ca0b",
   "metadata": {},
   "outputs": [],
   "source": [
    "class Pokemon:\n",
    "    def __init__(self, pokemon_a='pikachu'):\n",
    "        self.pokemon_a = pokemon_a"
   ]
  },
  {
   "cell_type": "code",
   "execution_count": 35,
   "id": "37e8fa2a",
   "metadata": {},
   "outputs": [],
   "source": [
    "poke_a = Pokemon()"
   ]
  },
  {
   "cell_type": "code",
   "execution_count": 36,
   "id": "191a0273",
   "metadata": {},
   "outputs": [
    {
     "name": "stdout",
     "output_type": "stream",
     "text": [
      "pikachu\n"
     ]
    }
   ],
   "source": [
    "print(poke_a.pokemon_a)"
   ]
  },
  {
   "cell_type": "code",
   "execution_count": null,
   "id": "85f955e8",
   "metadata": {},
   "outputs": [],
   "source": [
    "# Pokemon.pokemon_a\n",
    "\n",
    "# type object 'Pokemon' has no attribute 'pokemon_a' 이라는 오류 발생"
   ]
  },
  {
   "cell_type": "markdown",
   "id": "c4b6ce18",
   "metadata": {},
   "source": [
    "### 3. method 생성"
   ]
  },
  {
   "cell_type": "code",
   "execution_count": 35,
   "id": "547b5253",
   "metadata": {},
   "outputs": [],
   "source": [
    "class Person:\n",
    "    def __init__(self, first_name, last_name):\n",
    "        self.first_name = first_name\n",
    "        self.last_name = last_name\n",
    "    \n",
    "    def full_name(self):\n",
    "        return self.first_name + ' ' + self.last_name"
   ]
  },
  {
   "cell_type": "code",
   "execution_count": 36,
   "id": "f7aafd3e",
   "metadata": {},
   "outputs": [
    {
     "name": "stdout",
     "output_type": "stream",
     "text": [
      "Fred\n",
      "Williams\n"
     ]
    }
   ],
   "source": [
    "# class 정의\n",
    "fred = Person('Fred', 'Williams')\n",
    "\n",
    "print(fred.first_name) \n",
    "print(fred.last_name)"
   ]
  },
  {
   "cell_type": "code",
   "execution_count": 37,
   "id": "30536b03",
   "metadata": {},
   "outputs": [
    {
     "name": "stdout",
     "output_type": "stream",
     "text": [
      "Fred Williams\n"
     ]
    }
   ],
   "source": [
    "print(fred.full_name())"
   ]
  },
  {
   "cell_type": "markdown",
   "id": "a37e1c46",
   "metadata": {},
   "source": [
    "## self\n",
    "\n",
    "1. 본인, 클래스를 저장할 변수\n",
    "\n",
    "\n",
    "2. def show(self)에서 self는 a.show의 a에 해당. \n",
    "    - 따라서 a.show()가 된다.\n",
    "    \n",
    "    \n",
    "3. self 말고 다른 단어로 대체할 수 있다. 하지만 기능은 같다."
   ]
  },
  {
   "cell_type": "code",
   "execution_count": 5,
   "id": "c7db787d",
   "metadata": {},
   "outputs": [
    {
     "name": "stdout",
     "output_type": "stream",
     "text": [
      "show실행\n"
     ]
    }
   ],
   "source": [
    "a.show()"
   ]
  },
  {
   "cell_type": "code",
   "execution_count": 38,
   "id": "25fcfba3",
   "metadata": {},
   "outputs": [],
   "source": [
    "class JSS1:\n",
    "    def __init__(self):\n",
    "        self.name = input(\"이름: \")\n",
    "        self.age = input(\"나이: \")\n",
    "    def show(self):\n",
    "        print(f'나의 이름은 {self.name}, 나이는 {self.age}입니다.')"
   ]
  },
  {
   "cell_type": "code",
   "execution_count": 39,
   "id": "1b0872f1",
   "metadata": {},
   "outputs": [
    {
     "name": "stdout",
     "output_type": "stream",
     "text": [
      "이름: \n",
      "나이: \n"
     ]
    }
   ],
   "source": [
    "a = JSS1()"
   ]
  },
  {
   "cell_type": "code",
   "execution_count": 40,
   "id": "6a4ef40b",
   "metadata": {},
   "outputs": [
    {
     "data": {
      "text/plain": [
       "''"
      ]
     },
     "execution_count": 40,
     "metadata": {},
     "output_type": "execute_result"
    }
   ],
   "source": [
    "a.name"
   ]
  },
  {
   "cell_type": "code",
   "execution_count": 41,
   "id": "234a46f3",
   "metadata": {},
   "outputs": [
    {
     "data": {
      "text/plain": [
       "''"
      ]
     },
     "execution_count": 41,
     "metadata": {},
     "output_type": "execute_result"
    }
   ],
   "source": [
    "a.age"
   ]
  },
  {
   "cell_type": "code",
   "execution_count": 42,
   "id": "ec1460c3",
   "metadata": {},
   "outputs": [
    {
     "name": "stdout",
     "output_type": "stream",
     "text": [
      "나의 이름은 , 나이는 입니다.\n"
     ]
    }
   ],
   "source": [
    "a.show()"
   ]
  },
  {
   "cell_type": "markdown",
   "id": "9d4c725d",
   "metadata": {},
   "source": [
    "## 상속\n",
    "\n",
    "1. 부모 class의 특성을 상속받음\n",
    "2. 상속 받을 class는 class Name()에서 괄호 안에 적어 준다.\n",
    "3. 새로운 특성이 추가되면 __init__ 선언 \n",
    "    - 이러면 부모 class의 init 함수 내의 정보는 사라지고 새로 덮어쓴다 \n",
    "4. super().__init__() 를 쓰게 되면 부모class의 init함수를 전부 가져오는 것과 같다. \n",
    "    - 여기서 super = 부모class 이름"
   ]
  },
  {
   "cell_type": "code",
   "execution_count": null,
   "id": "3d19018f",
   "metadata": {},
   "outputs": [],
   "source": [
    "# 부모 class 그대로 상속\n",
    "# class JSS2(JSS1):\n",
    "#     pass"
   ]
  },
  {
   "cell_type": "code",
   "execution_count": 21,
   "id": "4a039ffc",
   "metadata": {},
   "outputs": [],
   "source": [
    "class JSS2(JSS1):\n",
    "    def __init__(self):\n",
    "        super().__init__()\n",
    "        self.sex = input(\"성별: \")\n",
    "    def show(self):\n",
    "        print(f'나의 이름은 {self.name}이고, 나이는 {self.age}입니다.그리고 성별은 {self.sex}입니다.')"
   ]
  },
  {
   "cell_type": "code",
   "execution_count": 24,
   "id": "fe9e8f2d",
   "metadata": {},
   "outputs": [
    {
     "name": "stdout",
     "output_type": "stream",
     "text": [
      "이름: 정철준\n",
      "나이: 22\n",
      "성별: 남자\n"
     ]
    }
   ],
   "source": [
    "b = JSS2()"
   ]
  },
  {
   "cell_type": "code",
   "execution_count": 25,
   "id": "800d22f5",
   "metadata": {},
   "outputs": [
    {
     "name": "stdout",
     "output_type": "stream",
     "text": [
      "나의 이름은 정철준이고, 나이는 22입니다.그리고 성별은 남자입니다.\n"
     ]
    }
   ],
   "source": [
    "b.show()"
   ]
  },
  {
   "cell_type": "markdown",
   "id": "89e0604e",
   "metadata": {},
   "source": [
    "### 인스턴스, 인스턴스화\n",
    "\n",
    "\n",
    "인스턴스 : 생성된 객체, 어떤 클래스에 속하는 각각의 객체\n",
    "\n",
    "인스턴스화 : 클래스로부터 객체를 만드는 과정 "
   ]
  },
  {
   "cell_type": "markdown",
   "id": "0b9d3a0e",
   "metadata": {},
   "source": [
    "### @property\n",
    "\n",
    "- full_name은 클래스의 특성이 아닌 하나의 method로 접해야 한다.\n",
    "    \n",
    "    이때 @property를 method 위에 써주면 class의 특성에 접근하는 것처럼 접근이 가능하다.\n",
    "    \n",
    "    \n",
    "- 클래스 내에 다른 특성들과 연관이 되어 있는 특성들을 관리할 때 사용을 할 수 있습니다.\n",
    "\n",
    "\n",
    "\n",
    "- \"같이 동적으로 변하면 좋겠다\" 싶은 method\n"
   ]
  },
  {
   "cell_type": "code",
   "execution_count": 73,
   "id": "a2ebfbee",
   "metadata": {},
   "outputs": [],
   "source": [
    "class Person:\n",
    "    def __init__(self, first_name, last_name):\n",
    "        self.first_name = first_name\n",
    "        self.last_name = last_name\n",
    "        self.full_name = self.first_name + ' ' + self.last_name \n",
    "#     @property\n",
    "#     def full_name(self):\n",
    "#         return self.first_name + ' ' + self.last_name"
   ]
  },
  {
   "cell_type": "code",
   "execution_count": 74,
   "id": "e32d16c2",
   "metadata": {},
   "outputs": [],
   "source": [
    "gilbert = Person(\"gilbert\",\"정\")"
   ]
  },
  {
   "cell_type": "code",
   "execution_count": 75,
   "id": "503709b1",
   "metadata": {},
   "outputs": [
    {
     "name": "stdout",
     "output_type": "stream",
     "text": [
      "gilbert\n",
      "정\n",
      "gilbert 정\n"
     ]
    }
   ],
   "source": [
    "print(gilbert.first_name)\n",
    "print(gilbert.last_name)\n",
    "print(gilbert.full_name)"
   ]
  },
  {
   "cell_type": "code",
   "execution_count": 76,
   "id": "1a7412be",
   "metadata": {
    "scrolled": true
   },
   "outputs": [
    {
     "name": "stdout",
     "output_type": "stream",
     "text": [
      "kevin\n",
      "kevin 정\n"
     ]
    }
   ],
   "source": [
    "gilbert.first_name = 'kevin'\n",
    "\n",
    "print(gilbert.first_name) \n",
    "print(gilbert.full_name)"
   ]
  },
  {
   "cell_type": "markdown",
   "id": "56fbe12c",
   "metadata": {},
   "source": [
    "# getter"
   ]
  },
  {
   "cell_type": "code",
   "execution_count": 84,
   "id": "62ccd2bc",
   "metadata": {},
   "outputs": [],
   "source": [
    "class Shop:\n",
    "    SHOP_TYPE_LIST = ['병원', '패스트푸드', '샌드위치']\n",
    "    def __init__(self, name, shop_type, address):\n",
    "        self.name = name\n",
    "        self.__shop_type = shop_type\n",
    "        self.address = address\n",
    " \n",
    "    def show_info(self):\n",
    "        return(\n",
    "            f'상점정보: {self.name}\\n'\n",
    "            f'유형: {self.__shop_type}\\n'\n",
    "            f'주소: {self.address}'\n",
    "        )\n",
    " \n",
    "    def get_shop_type(self):\n",
    "        return self.__shop_type\n",
    " \n",
    "    def set_shop_type(self, new_shop_type):\n",
    "        if new_shop_type in SHOP_TYPE_LIST:\n",
    "            self.__shop_type = new_shop_type\n",
    "        else:\n",
    "            print('{} 중에 하나의 유형만 설정 가능합니다.'.format(\n",
    "                ', '.join(self.SHOP_TYPE_LIST)\n",
    "            ))"
   ]
  },
  {
   "cell_type": "code",
   "execution_count": 85,
   "id": "3969c704",
   "metadata": {},
   "outputs": [],
   "source": [
    "subway = Shop('서브웨이', '패스트푸드', '강남역')"
   ]
  },
  {
   "cell_type": "code",
   "execution_count": 86,
   "id": "81243763",
   "metadata": {},
   "outputs": [
    {
     "data": {
      "text/plain": [
       "'패스트푸드'"
      ]
     },
     "execution_count": 86,
     "metadata": {},
     "output_type": "execute_result"
    }
   ],
   "source": [
    "subway.get_shop_type()"
   ]
  },
  {
   "cell_type": "code",
   "execution_count": 87,
   "id": "66e04075",
   "metadata": {},
   "outputs": [
    {
     "data": {
      "text/plain": [
       "<bound method Shop.get_shop_type of <__main__.Shop object at 0x000002BBA43CC400>>"
      ]
     },
     "execution_count": 87,
     "metadata": {},
     "output_type": "execute_result"
    }
   ],
   "source": [
    "# 객체의 메모리 주소\n",
    "subway.get_shop_type"
   ]
  },
  {
   "cell_type": "code",
   "execution_count": 102,
   "id": "db05627b",
   "metadata": {},
   "outputs": [],
   "source": [
    "class Shop:\n",
    "    SHOP_TYPE_LIST = ['패스트푸드', '샌드위치']\n",
    "    def __init__(self, name, shop_type, address):\n",
    "        self.name = name\n",
    "        self.__shop_type = shop_type\n",
    "        self.address = address\n",
    " \n",
    "    def show_info(self):\n",
    "        return(\n",
    "            f'상점정보: {self.name}\\n'\n",
    "            f'유형: {self.__shop_type}\\n'\n",
    "            f'주소: {self.address}'\n",
    "        )\n",
    "    \n",
    "    # subway.shop_type() 으로 접근하게 되면 str is not callable 이라는 에러를 발생\n",
    "    @property\n",
    "    def shop_type(self):\n",
    "        return self.__shop_type\n",
    "     \n",
    "    @shop_type.setter    \n",
    "    def set_shop_type(self, new_shop_type):\n",
    "        if new_shop_type in SHOP_TYPE_LIST:\n",
    "            self.__shop_type = new_shop_type\n",
    "        else:\n",
    "            print('{} 중에 하나의 유형만 설정 가능합니다.'.format(\n",
    "                ', '.join(self.SHOP_TYPE_LIST)\n",
    "            ))"
   ]
  },
  {
   "cell_type": "code",
   "execution_count": 103,
   "id": "06c5f9ef",
   "metadata": {},
   "outputs": [],
   "source": [
    "subway1 = Shop('서브웨이', '패스트푸드', '강남역')"
   ]
  },
  {
   "cell_type": "code",
   "execution_count": 106,
   "id": "7f845f1b",
   "metadata": {},
   "outputs": [
    {
     "data": {
      "text/plain": [
       "'패스트푸드'"
      ]
     },
     "execution_count": 106,
     "metadata": {},
     "output_type": "execute_result"
    }
   ],
   "source": [
    "subway1.shop_type"
   ]
  },
  {
   "cell_type": "markdown",
   "id": "e07a2c1e",
   "metadata": {},
   "source": [
    "## Setter : 값을 설정해주는 행동\n",
    "\n",
    "1. @full_name 에서 first_name, last_name의 값을 정해준다.\n",
    "\n",
    "\n",
    "2. __init__  함수가 1번에서 정해준 값을 받는다.\n",
    "\n",
    "\n",
    "3. @proprty 에서는, 위에서 정해진 값을 받아 작동   "
   ]
  },
  {
   "cell_type": "code",
   "execution_count": 18,
   "id": "cceb90b7",
   "metadata": {},
   "outputs": [],
   "source": [
    "class Person:\n",
    "    def __init__(self, first_name, last_name):\n",
    "        self.first_name = first_name\n",
    "        self.last_name = last_name\n",
    "    \n",
    "    @property\n",
    "    def full_name(self):\n",
    "        return self.first_name + ' ' + self.last_name\n",
    "    \n",
    "    # 위에서 정의한 full_name 함수의 값을 정해주는 행동\n",
    "    # + 추가적인 동작들. ex) split, upper 등등\n",
    "    # @full_name.setter 없다면, Error(can't set attribute) 발생\n",
    "\n",
    "    @full_name.setter \n",
    "    def full_name(self, new_full_name):\n",
    "        first_name, last_name = new_full_name.split()\n",
    "        self.first_name = first_name\n",
    "        self.last_name = last_name"
   ]
  },
  {
   "cell_type": "code",
   "execution_count": 19,
   "id": "d235848b",
   "metadata": {},
   "outputs": [],
   "source": [
    "kevin = Person(\"kevin\", \"Jung\")"
   ]
  },
  {
   "cell_type": "code",
   "execution_count": 20,
   "id": "240bbe55",
   "metadata": {},
   "outputs": [
    {
     "name": "stdout",
     "output_type": "stream",
     "text": [
      "kevin\n",
      "Jung\n",
      "kevin Jung\n"
     ]
    }
   ],
   "source": [
    "print(kevin.first_name)\n",
    "print(kevin.last_name)\n",
    "print(kevin.full_name)"
   ]
  },
  {
   "cell_type": "code",
   "execution_count": 21,
   "id": "53d967b4",
   "metadata": {},
   "outputs": [
    {
     "name": "stdout",
     "output_type": "stream",
     "text": [
      "KEVIN\n",
      "JUNG\n",
      "KEVIN JUNG\n"
     ]
    }
   ],
   "source": [
    "kevin.full_name = \"KEVIN JUNG\"\n",
    "\n",
    "print(kevin.first_name)\n",
    "print(kevin.last_name)\n",
    "print(kevin.full_name)"
   ]
  },
  {
   "cell_type": "markdown",
   "id": "563e2b19",
   "metadata": {},
   "source": [
    "### single underscore  ( _ )\n",
    "\n",
    "1. 파이썬 클래스 내부에서 따로 변수나 값을 저장할 때 사용\n",
    "\n",
    "\n",
    "2. 비공개속성 (건들지 마라)"
   ]
  },
  {
   "cell_type": "code",
   "execution_count": 22,
   "id": "df93933d",
   "metadata": {},
   "outputs": [],
   "source": [
    "class Person:\n",
    "    \n",
    "    _humanity = \"인간\"\n",
    "    \n",
    "    def __init__(self, first_name, last_name):\n",
    "        self.first_name = first_name\n",
    "        self.last_name = last_name\n",
    "    \n",
    "    @property\n",
    "    def full_name(self):\n",
    "        return self.first_name + ' ' + self.last_name\n",
    "    \n",
    "    # 위에서 정의한 full_name 함수의 값을 정해주는 행동\n",
    "    # + 추가적인 동작들. ex) split, upper 등등\n",
    "    # @full_name.setter 없다면, Error(can't set attribute) 발생\n",
    "\n",
    "    @full_name.setter \n",
    "    def full_name(self, new_full_name):\n",
    "        first_name, last_name = new_full_name.split()\n",
    "        self.first_name = first_name\n",
    "        self.last_name = last_name"
   ]
  },
  {
   "cell_type": "code",
   "execution_count": 26,
   "id": "51e8252e",
   "metadata": {},
   "outputs": [],
   "source": [
    "sam = Person(\"Sam\",\"KIM\")"
   ]
  },
  {
   "cell_type": "code",
   "execution_count": 27,
   "id": "b4808ef0",
   "metadata": {},
   "outputs": [
    {
     "name": "stdout",
     "output_type": "stream",
     "text": [
      "Sam\n",
      "KIM\n",
      "Sam KIM\n",
      "인간\n"
     ]
    }
   ],
   "source": [
    "print(sam.first_name)\n",
    "print(sam.last_name)\n",
    "print(sam.full_name)\n",
    "print(sam._humanity)"
   ]
  },
  {
   "cell_type": "markdown",
   "id": "be7188ed",
   "metadata": {},
   "source": [
    "# QnA 시간에 한 내용 "
   ]
  },
  {
   "cell_type": "code",
   "execution_count": 81,
   "id": "a1734fb2",
   "metadata": {},
   "outputs": [],
   "source": [
    "# 머신러닝 모델 만들때를 떠올려라\n",
    "\n",
    "# 붕어빵 틀\n",
    "class Dog:\n",
    "    species = \"aaa\" # 전역변수 -> 동물의 종 , 인간 같은? 완전히 같은 틀?\n",
    "    def __init__(self,name,age):  #attribute : 특성\n",
    "        self.name = name\n",
    "        self.age = age\n",
    "        \n",
    "    \n",
    "#     def description(self):\n",
    "#         return f\"{self.name} is {self.age} years old\"\n",
    "\n",
    "    # __str__ : structure , print로 출력하면 된다.\n",
    "    def __str__(self):\n",
    "        return f\"{self.name} is {self.age} years old\"\n",
    "    \n",
    "    def speak(self,sound):\n",
    "        return f\"{self.name} says {sound}\"\n",
    "        "
   ]
  },
  {
   "cell_type": "code",
   "execution_count": 82,
   "id": "5a178e75",
   "metadata": {},
   "outputs": [
    {
     "name": "stdout",
     "output_type": "stream",
     "text": [
      "Miles\n"
     ]
    }
   ],
   "source": [
    "# Miles = 붕어빵 만들떄 쓰는 재료 \n",
    "miles = Dog(\"Miles\",10)\n",
    "\n",
    "print(miles.name)"
   ]
  },
  {
   "cell_type": "code",
   "execution_count": 83,
   "id": "b2149070",
   "metadata": {},
   "outputs": [
    {
     "data": {
      "text/plain": [
       "'aaa'"
      ]
     },
     "execution_count": 83,
     "metadata": {},
     "output_type": "execute_result"
    }
   ],
   "source": [
    "miles.species"
   ]
  },
  {
   "cell_type": "code",
   "execution_count": 84,
   "id": "bcf7019b",
   "metadata": {},
   "outputs": [],
   "source": [
    "# miles.description()"
   ]
  },
  {
   "cell_type": "code",
   "execution_count": 85,
   "id": "b05ef865",
   "metadata": {},
   "outputs": [
    {
     "data": {
      "text/plain": [
       "'Miles is 10 years old'"
      ]
     },
     "execution_count": 85,
     "metadata": {},
     "output_type": "execute_result"
    }
   ],
   "source": [
    "miles.__str__()"
   ]
  },
  {
   "cell_type": "code",
   "execution_count": 86,
   "id": "7ae5a873",
   "metadata": {},
   "outputs": [
    {
     "name": "stdout",
     "output_type": "stream",
     "text": [
      "Miles is 10 years old\n"
     ]
    }
   ],
   "source": [
    "print(miles)"
   ]
  },
  {
   "cell_type": "code",
   "execution_count": 88,
   "id": "82cd26dd",
   "metadata": {},
   "outputs": [
    {
     "data": {
      "text/plain": [
       "'Milessays oh yeah'"
      ]
     },
     "execution_count": 88,
     "metadata": {},
     "output_type": "execute_result"
    }
   ],
   "source": [
    "miles.speak(sound = \"oh yeah\")"
   ]
  },
  {
   "cell_type": "code",
   "execution_count": 117,
   "id": "698d39c6",
   "metadata": {},
   "outputs": [],
   "source": [
    "class Celsius:\n",
    "    #temperature = _temperature (숨겨져 있는 애)\n",
    "    def __init__(self, temperature = 0):\n",
    "        self.temperature = temperature\n",
    "        \n",
    "    def to_f(self):\n",
    "        return (self.temperature() *1.8) + 32"
   ]
  },
  {
   "cell_type": "code",
   "execution_count": 127,
   "id": "5e68fc00",
   "metadata": {},
   "outputs": [],
   "source": [
    "class Celsius:\n",
    "    #temperature = _temperature (숨겨져 있는 애)\n",
    "    def __init__(self, temperature = 0):\n",
    "        self.temperature = temperature\n",
    "        \n",
    "    def to_f(self):\n",
    "        return (self.get_temperature*1.8) + 32\n",
    "    \n",
    "    # getter : 받는 역할\n",
    "    def get_temperature(self):\n",
    "        return self._temperature #private\n",
    "    \n",
    "    def set_temperature(self,value):\n",
    "        if value < -273.15:\n",
    "            raise ValueError(\"ddd\")\n",
    "        self._temperature = value"
   ]
  },
  {
   "cell_type": "code",
   "execution_count": 128,
   "id": "d4a955de",
   "metadata": {},
   "outputs": [],
   "source": [
    "human = Celsius(-300)"
   ]
  },
  {
   "cell_type": "code",
   "execution_count": 129,
   "id": "47d79800",
   "metadata": {},
   "outputs": [
    {
     "ename": "TypeError",
     "evalue": "unsupported operand type(s) for *: 'method' and 'float'",
     "output_type": "error",
     "traceback": [
      "\u001b[1;31m---------------------------------------------------------------------------\u001b[0m",
      "\u001b[1;31mTypeError\u001b[0m                                 Traceback (most recent call last)",
      "\u001b[1;32m<ipython-input-129-a3b70aa8f5c9>\u001b[0m in \u001b[0;36m<module>\u001b[1;34m\u001b[0m\n\u001b[1;32m----> 1\u001b[1;33m \u001b[0mhuman\u001b[0m\u001b[1;33m.\u001b[0m\u001b[0mto_f\u001b[0m\u001b[1;33m(\u001b[0m\u001b[1;33m)\u001b[0m\u001b[1;33m\u001b[0m\u001b[1;33m\u001b[0m\u001b[0m\n\u001b[0m",
      "\u001b[1;32m<ipython-input-127-99b4bf921a73>\u001b[0m in \u001b[0;36mto_f\u001b[1;34m(self)\u001b[0m\n\u001b[0;32m      5\u001b[0m \u001b[1;33m\u001b[0m\u001b[0m\n\u001b[0;32m      6\u001b[0m     \u001b[1;32mdef\u001b[0m \u001b[0mto_f\u001b[0m\u001b[1;33m(\u001b[0m\u001b[0mself\u001b[0m\u001b[1;33m)\u001b[0m\u001b[1;33m:\u001b[0m\u001b[1;33m\u001b[0m\u001b[1;33m\u001b[0m\u001b[0m\n\u001b[1;32m----> 7\u001b[1;33m         \u001b[1;32mreturn\u001b[0m \u001b[1;33m(\u001b[0m\u001b[0mself\u001b[0m\u001b[1;33m.\u001b[0m\u001b[0mget_temperature\u001b[0m\u001b[1;33m*\u001b[0m\u001b[1;36m1.8\u001b[0m\u001b[1;33m)\u001b[0m \u001b[1;33m+\u001b[0m \u001b[1;36m32\u001b[0m\u001b[1;33m\u001b[0m\u001b[1;33m\u001b[0m\u001b[0m\n\u001b[0m\u001b[0;32m      8\u001b[0m \u001b[1;33m\u001b[0m\u001b[0m\n\u001b[0;32m      9\u001b[0m     \u001b[1;31m# getter : 받는 역할\u001b[0m\u001b[1;33m\u001b[0m\u001b[1;33m\u001b[0m\u001b[1;33m\u001b[0m\u001b[0m\n",
      "\u001b[1;31mTypeError\u001b[0m: unsupported operand type(s) for *: 'method' and 'float'"
     ]
    }
   ],
   "source": [
    "human.to_f()"
   ]
  },
  {
   "cell_type": "code",
   "execution_count": 130,
   "id": "dd23bf5d",
   "metadata": {},
   "outputs": [],
   "source": [
    "class Celsius:\n",
    "    #temperature = _temperature (숨겨져 있는 애)\n",
    "    def __init__(self, temperature = 0):\n",
    "        self.temperature(temperature)\n",
    "        \n",
    "    def to_f(self):\n",
    "        return (self.get_temperature*1.8) + 32\n",
    "    \n",
    "    # getter : 받는 역할\n",
    "    def get_temperature(self):\n",
    "        return self._temperature #private\n",
    "    \n",
    "    def set_temperature(self,value):\n",
    "        if value < -273.15:\n",
    "            raise ValueError(\"ddd\")\n",
    "        self._temperature = value"
   ]
  },
  {
   "cell_type": "code",
   "execution_count": 131,
   "id": "d133d645",
   "metadata": {},
   "outputs": [
    {
     "ename": "AttributeError",
     "evalue": "'Celsius' object has no attribute 'temperature'",
     "output_type": "error",
     "traceback": [
      "\u001b[1;31m---------------------------------------------------------------------------\u001b[0m",
      "\u001b[1;31mAttributeError\u001b[0m                            Traceback (most recent call last)",
      "\u001b[1;32m<ipython-input-131-6d2a7afbdc4a>\u001b[0m in \u001b[0;36m<module>\u001b[1;34m\u001b[0m\n\u001b[1;32m----> 1\u001b[1;33m \u001b[0mhuman\u001b[0m \u001b[1;33m=\u001b[0m \u001b[0mCelsius\u001b[0m\u001b[1;33m(\u001b[0m\u001b[1;33m-\u001b[0m\u001b[1;36m300\u001b[0m\u001b[1;33m)\u001b[0m\u001b[1;33m\u001b[0m\u001b[1;33m\u001b[0m\u001b[0m\n\u001b[0m",
      "\u001b[1;32m<ipython-input-130-d32dd31987e9>\u001b[0m in \u001b[0;36m__init__\u001b[1;34m(self, temperature)\u001b[0m\n\u001b[0;32m      2\u001b[0m     \u001b[1;31m#temperature = _temperature (숨겨져 있는 애)\u001b[0m\u001b[1;33m\u001b[0m\u001b[1;33m\u001b[0m\u001b[1;33m\u001b[0m\u001b[0m\n\u001b[0;32m      3\u001b[0m     \u001b[1;32mdef\u001b[0m \u001b[0m__init__\u001b[0m\u001b[1;33m(\u001b[0m\u001b[0mself\u001b[0m\u001b[1;33m,\u001b[0m \u001b[0mtemperature\u001b[0m \u001b[1;33m=\u001b[0m \u001b[1;36m0\u001b[0m\u001b[1;33m)\u001b[0m\u001b[1;33m:\u001b[0m\u001b[1;33m\u001b[0m\u001b[1;33m\u001b[0m\u001b[0m\n\u001b[1;32m----> 4\u001b[1;33m         \u001b[0mself\u001b[0m\u001b[1;33m.\u001b[0m\u001b[0mtemperature\u001b[0m\u001b[1;33m(\u001b[0m\u001b[0mtemperature\u001b[0m\u001b[1;33m)\u001b[0m\u001b[1;33m\u001b[0m\u001b[1;33m\u001b[0m\u001b[0m\n\u001b[0m\u001b[0;32m      5\u001b[0m \u001b[1;33m\u001b[0m\u001b[0m\n\u001b[0;32m      6\u001b[0m     \u001b[1;32mdef\u001b[0m \u001b[0mto_f\u001b[0m\u001b[1;33m(\u001b[0m\u001b[0mself\u001b[0m\u001b[1;33m)\u001b[0m\u001b[1;33m:\u001b[0m\u001b[1;33m\u001b[0m\u001b[1;33m\u001b[0m\u001b[0m\n",
      "\u001b[1;31mAttributeError\u001b[0m: 'Celsius' object has no attribute 'temperature'"
     ]
    }
   ],
   "source": [
    "human = Celsius(-300)"
   ]
  }
 ],
 "metadata": {
  "kernelspec": {
   "display_name": "Python 3",
   "language": "python",
   "name": "python3"
  },
  "language_info": {
   "codemirror_mode": {
    "name": "ipython",
    "version": 3
   },
   "file_extension": ".py",
   "mimetype": "text/x-python",
   "name": "python",
   "nbconvert_exporter": "python",
   "pygments_lexer": "ipython3",
   "version": "3.9.5"
  }
 },
 "nbformat": 4,
 "nbformat_minor": 5
}
