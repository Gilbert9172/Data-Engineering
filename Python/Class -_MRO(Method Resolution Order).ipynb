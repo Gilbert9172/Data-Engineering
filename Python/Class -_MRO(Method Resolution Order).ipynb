{
 "cells": [
  {
   "cell_type": "markdown",
   "id": "bed10884",
   "metadata": {},
   "source": [
    "### class 선언"
   ]
  },
  {
   "cell_type": "code",
   "execution_count": 9,
   "id": "1b5e1bb8",
   "metadata": {},
   "outputs": [],
   "source": [
    "class Human:\n",
    "    def name(self):\n",
    "        print(\"가족\")\n",
    "\n",
    "class Mother(Human):\n",
    "    def name(self):\n",
    "        print(\"박덕희\")\n",
    "\n",
    "class Father(Human):\n",
    "    def name(self):\n",
    "        print(\"정원필\")\n",
    "\n",
    "class Son(Mother, Father):\n",
    "    def name(self):\n",
    "        print(\"정길준\")"
   ]
  },
  {
   "cell_type": "markdown",
   "id": "cabaac05",
   "metadata": {},
   "source": [
    "### son 클래스의 MRO\n",
    "- 먼저 출력된 값일수록 우선순위가 높다.\n"
   ]
  },
  {
   "cell_type": "code",
   "execution_count": 10,
   "id": "8e54179e",
   "metadata": {},
   "outputs": [
    {
     "name": "stdout",
     "output_type": "stream",
     "text": [
      "(<class '__main__.Son'>, <class '__main__.Mother'>, <class '__main__.Father'>, <class '__main__.Human'>, <class 'object'>)\n"
     ]
    }
   ],
   "source": [
    "print(Son.__mro__)"
   ]
  },
  {
   "cell_type": "code",
   "execution_count": 11,
   "id": "c768cb9a",
   "metadata": {},
   "outputs": [
    {
     "name": "stdout",
     "output_type": "stream",
     "text": [
      "정길준\n"
     ]
    }
   ],
   "source": [
    "son = Son()\n",
    "son.name()"
   ]
  },
  {
   "cell_type": "code",
   "execution_count": 12,
   "id": "70792c90",
   "metadata": {},
   "outputs": [],
   "source": [
    "class Human:\n",
    "    def name(self):\n",
    "        print(\"가족\")\n",
    "\n",
    "class Mother(Human):\n",
    "    def name(self):\n",
    "        print(\"박덕희\")\n",
    "\n",
    "class Father(Human):\n",
    "    def name(self):\n",
    "        print(\"정원필\")\n",
    "\n",
    "class Son(Mother, Father):\n",
    "    pass"
   ]
  },
  {
   "cell_type": "markdown",
   "id": "94c46d76",
   "metadata": {},
   "source": [
    "-Son 클래스의 메소드를 삭제하면 그 다음으로 우선순위를 가지는 Mother 클래스의 메소드가 실행"
   ]
  },
  {
   "cell_type": "code",
   "execution_count": 14,
   "id": "a6212f87",
   "metadata": {},
   "outputs": [
    {
     "name": "stdout",
     "output_type": "stream",
     "text": [
      "박덕희\n"
     ]
    }
   ],
   "source": [
    "son = Son()\n",
    "son.name()"
   ]
  },
  {
   "cell_type": "markdown",
   "id": "82aebaf0",
   "metadata": {},
   "source": [
    "# super class & MRO"
   ]
  },
  {
   "cell_type": "code",
   "execution_count": 21,
   "id": "196564d1",
   "metadata": {},
   "outputs": [],
   "source": [
    "class Human:\n",
    "    def name(self):\n",
    "        print(\"가족\")\n",
    "\n",
    "class Mother(Human):\n",
    "    def name(self):\n",
    "        super().name()\n",
    "\n",
    "class Father(Human):\n",
    "    def name(self):\n",
    "        print(\"정원필\")\n",
    "\n",
    "class Son(Mother, Father):\n",
    "    pass"
   ]
  },
  {
   "cell_type": "markdown",
   "id": "41b3ff84",
   "metadata": {},
   "source": [
    "- 박덕희가 출력 되야할거 같은데?\n",
    "> 정원필 출력"
   ]
  },
  {
   "cell_type": "code",
   "execution_count": 22,
   "id": "e10bbf85",
   "metadata": {},
   "outputs": [
    {
     "name": "stdout",
     "output_type": "stream",
     "text": [
      "정원필\n"
     ]
    }
   ],
   "source": [
    "son = Son()\n",
    "son.name()"
   ]
  },
  {
   "cell_type": "markdown",
   "id": "92488b2c",
   "metadata": {},
   "source": [
    "- 엄마클래스의 superclass가 다음 우선순위를 가지는 father class이기 때문에"
   ]
  },
  {
   "cell_type": "code",
   "execution_count": 25,
   "id": "4477cd79",
   "metadata": {},
   "outputs": [
    {
     "name": "stdout",
     "output_type": "stream",
     "text": [
      "(<class '__main__.Son'>, <class '__main__.Mother'>, <class '__main__.Father'>, <class '__main__.Human'>, <class 'object'>)\n"
     ]
    }
   ],
   "source": [
    "print(Son.__mro__)"
   ]
  },
  {
   "cell_type": "markdown",
   "id": "eefcf7de",
   "metadata": {},
   "source": [
    "# TypeError"
   ]
  },
  {
   "cell_type": "code",
   "execution_count": 35,
   "id": "f0658603",
   "metadata": {},
   "outputs": [
    {
     "ename": "TypeError",
     "evalue": "Cannot create a consistent method resolution\norder (MRO) for bases A, B, C",
     "output_type": "error",
     "traceback": [
      "\u001b[1;31m---------------------------------------------------------------------------\u001b[0m",
      "\u001b[1;31mTypeError\u001b[0m                                 Traceback (most recent call last)",
      "\u001b[1;32m<ipython-input-35-c7be1185d415>\u001b[0m in \u001b[0;36m<module>\u001b[1;34m\u001b[0m\n\u001b[0;32m      8\u001b[0m     \u001b[1;32mpass\u001b[0m\u001b[1;33m\u001b[0m\u001b[1;33m\u001b[0m\u001b[0m\n\u001b[0;32m      9\u001b[0m \u001b[1;33m\u001b[0m\u001b[0m\n\u001b[1;32m---> 10\u001b[1;33m \u001b[1;32mclass\u001b[0m \u001b[0mD\u001b[0m\u001b[1;33m(\u001b[0m\u001b[0mA\u001b[0m\u001b[1;33m,\u001b[0m\u001b[0mB\u001b[0m\u001b[1;33m,\u001b[0m\u001b[0mC\u001b[0m\u001b[1;33m)\u001b[0m\u001b[1;33m:\u001b[0m \u001b[1;31m# 에러 발생!\u001b[0m\u001b[1;33m\u001b[0m\u001b[1;33m\u001b[0m\u001b[0m\n\u001b[0m\u001b[0;32m     11\u001b[0m     \u001b[1;32mpass\u001b[0m\u001b[1;33m\u001b[0m\u001b[1;33m\u001b[0m\u001b[0m\n",
      "\u001b[1;31mTypeError\u001b[0m: Cannot create a consistent method resolution\norder (MRO) for bases A, B, C"
     ]
    }
   ],
   "source": [
    "class A:\n",
    "    pass\n",
    "\n",
    "class B(A):\n",
    "    pass\n",
    "\n",
    "class C(A):\n",
    "    pass\n",
    "\n",
    "class D(A,B,C): # 에러 발생!\n",
    "    pass"
   ]
  },
  {
   "cell_type": "code",
   "execution_count": 32,
   "id": "071b6992",
   "metadata": {},
   "outputs": [
    {
     "ename": "TypeError",
     "evalue": "Cannot create a consistent method resolution\norder (MRO) for bases A, B",
     "output_type": "error",
     "traceback": [
      "\u001b[1;31m---------------------------------------------------------------------------\u001b[0m",
      "\u001b[1;31mTypeError\u001b[0m                                 Traceback (most recent call last)",
      "\u001b[1;32m<ipython-input-32-60951a074396>\u001b[0m in \u001b[0;36m<module>\u001b[1;34m\u001b[0m\n\u001b[0;32m     11\u001b[0m     \u001b[1;32mpass\u001b[0m\u001b[1;33m\u001b[0m\u001b[1;33m\u001b[0m\u001b[0m\n\u001b[0;32m     12\u001b[0m \u001b[1;33m\u001b[0m\u001b[0m\n\u001b[1;32m---> 13\u001b[1;33m \u001b[1;32mclass\u001b[0m \u001b[0mE\u001b[0m\u001b[1;33m(\u001b[0m\u001b[0mC\u001b[0m\u001b[1;33m,\u001b[0m \u001b[0mD\u001b[0m\u001b[1;33m)\u001b[0m\u001b[1;33m:\u001b[0m \u001b[1;31m# 에러 발생!\u001b[0m\u001b[1;33m\u001b[0m\u001b[1;33m\u001b[0m\u001b[0m\n\u001b[0m\u001b[0;32m     14\u001b[0m     \u001b[1;32mpass\u001b[0m\u001b[1;33m\u001b[0m\u001b[1;33m\u001b[0m\u001b[0m\n",
      "\u001b[1;31mTypeError\u001b[0m: Cannot create a consistent method resolution\norder (MRO) for bases A, B"
     ]
    }
   ],
   "source": [
    "class A:\n",
    "    pass\n",
    "\n",
    "class B:\n",
    "    pass\n",
    "\n",
    "class C(A, B):\n",
    "    pass\n",
    "\n",
    "class D(B, A):\n",
    "    pass\n",
    "\n",
    "class E(C, D): # 에러 발생!\n",
    "    pass"
   ]
  }
 ],
 "metadata": {
  "kernelspec": {
   "display_name": "Python 3",
   "language": "python",
   "name": "python3"
  },
  "language_info": {
   "codemirror_mode": {
    "name": "ipython",
    "version": 3
   },
   "file_extension": ".py",
   "mimetype": "text/x-python",
   "name": "python",
   "nbconvert_exporter": "python",
   "pygments_lexer": "ipython3",
   "version": "3.9.5"
  }
 },
 "nbformat": 4,
 "nbformat_minor": 5
}
